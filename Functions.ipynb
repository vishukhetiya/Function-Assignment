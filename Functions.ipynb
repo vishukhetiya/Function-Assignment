{
 "cells": [
  {
   "cell_type": "markdown",
   "id": "c7d3ba67-2537-4a6f-9571-617fb5d65ea3",
   "metadata": {},
   "source": [
    "## Theory Questions:"
   ]
  },
  {
   "cell_type": "markdown",
   "id": "9871f105-129a-4b77-97f8-662c5cddb41f",
   "metadata": {},
   "source": [
    "# 1. What is the difference between a function and a method in Python?"
   ]
  },
  {
   "cell_type": "markdown",
   "id": "01c810f9-5feb-4a51-8ba5-9d677a85c23d",
   "metadata": {},
   "source": [
    "#### In Python, both **functions** and **methods** are used to perform actions, but they have key differences:"
   ]
  },
  {
   "cell_type": "markdown",
   "id": "709c4703-8b5b-4eaa-928c-009902167fcf",
   "metadata": {},
   "source": [
    "###  Function"
   ]
  },
  {
   "cell_type": "markdown",
   "id": "3a5d9367-3f0a-4696-8b7a-cfc7314cf029",
   "metadata": {},
   "source": [
    "- A function is a block of reusable code.\n",
    "- Defined using the def keyword.\n",
    "- Not tied to any object.\n",
    "- Called directly by its name."
   ]
  },
  {
   "cell_type": "markdown",
   "id": "8876f708-5c48-448e-aeec-85cd299635a2",
   "metadata": {},
   "source": [
    "#### Example of a Function\n",
    "\n"
   ]
  },
  {
   "cell_type": "code",
   "execution_count": 2,
   "id": "29b3484c-f7df-42c2-85f8-4af1adea3259",
   "metadata": {},
   "outputs": [
    {
     "name": "stdout",
     "output_type": "stream",
     "text": [
      "Hello Vishal\n"
     ]
    }
   ],
   "source": [
    "def greet(name):\n",
    "    return \"Hello \" + name\n",
    "\n",
    "print(greet(\"Vishal\"))"
   ]
  },
  {
   "cell_type": "markdown",
   "id": "5f2cfa82-0f3b-4464-8955-8797b2aecd9b",
   "metadata": {},
   "source": [
    "---\n",
    "\n",
    "### Method\n",
    "\n",
    "- A method is a function defined inside a class.\n",
    "- It is associated with an object.\n",
    "- Called using the dot notation.\n",
    "\n"
   ]
  },
  {
   "cell_type": "markdown",
   "id": "6fc64a74-8e8c-4cbc-97cd-951c229ffad5",
   "metadata": {},
   "source": [
    "### Example of a Method\n"
   ]
  },
  {
   "cell_type": "code",
   "execution_count": 3,
   "id": "8ee69aa7-336a-4eba-a262-3eb146aedd45",
   "metadata": {},
   "outputs": [
    {
     "name": "stdout",
     "output_type": "stream",
     "text": [
      "Hello!\n"
     ]
    }
   ],
   "source": [
    "class Person:\n",
    "    def greet(self):\n",
    "        return \"Hello!\"\n",
    "\n",
    "p = Person()\n",
    "print(p.greet())\n"
   ]
  },
  {
   "cell_type": "markdown",
   "id": "15916404-5bfb-448f-9847-9415d855b28f",
   "metadata": {},
   "source": [
    "### Summary"
   ]
  },
  {
   "cell_type": "code",
   "execution_count": null,
   "id": "5b36b259-b4d4-4973-9aa5-43f2fc7a84da",
   "metadata": {},
   "outputs": [],
   "source": [
    "'''\n",
    "Feature               Function            Method\n",
    "Defined using         def                 def inside class\n",
    "called using          function name       object.method\n",
    "example               len([1,2,3])        hello.upper()\n",
    "'''"
   ]
  },
  {
   "cell_type": "markdown",
   "id": "8665feca-aed4-41b7-8d33-b1b2e8346eff",
   "metadata": {},
   "source": [
    "# 2. Explain the concept of function arguments and parameters in Python."
   ]
  },
  {
   "cell_type": "markdown",
   "id": "77dcb6fd-5231-4e50-9cfe-68a9b7470dc4",
   "metadata": {},
   "source": [
    "### Function with a parameter"
   ]
  },
  {
   "cell_type": "code",
   "execution_count": 6,
   "id": "cd835462-8cff-419a-a399-012d92f0e6ab",
   "metadata": {},
   "outputs": [
    {
     "name": "stdout",
     "output_type": "stream",
     "text": [
      "Hello Vishal\n"
     ]
    }
   ],
   "source": [
    "def greet(name):\n",
    "    return \"Hello \"+name\n",
    "\n",
    "print(greet(\"Vishal\")) # calling function with argument"
   ]
  },
  {
   "cell_type": "markdown",
   "id": "e1d2e0bb-ee88-4323-be29-a8468be34cd1",
   "metadata": {},
   "source": [
    "### Explanation\n",
    "\n",
    "- Parameters are the variable names used in the function definition.\n",
    "- Arguments are the actual values passed to the function when calling it.\n",
    "\n",
    "In the example above:\n",
    "- 'name' is a parameter.\n",
    "- \"Vishal\" is an argument.\n"
   ]
  },
  {
   "cell_type": "markdown",
   "id": "516d3595-266f-4b4d-bcb4-ec09c244c602",
   "metadata": {},
   "source": [
    "### Types of Function Arguments\n",
    "Python supports several types of arguments:\n",
    "1. Positional Arguments\n",
    "2. Keyword Arguments\n",
    "3. Default Arguments\n",
    "4. Variable-length Arguments (*args and **kwargs)\n"
   ]
  },
  {
   "cell_type": "code",
   "execution_count": 7,
   "id": "f93cdc10-e485-44af-b2a4-f6a1a29b9816",
   "metadata": {},
   "outputs": [
    {
     "data": {
      "text/plain": [
       "7"
      ]
     },
     "execution_count": 7,
     "metadata": {},
     "output_type": "execute_result"
    }
   ],
   "source": [
    "# 1. Positional Arguments\n",
    "def add(a,b):\n",
    "    return a+b\n",
    "\n",
    "add(3,4)\n"
   ]
  },
  {
   "cell_type": "code",
   "execution_count": 8,
   "id": "1188ca91-192e-4e2c-8ae5-d8f64b51e3ce",
   "metadata": {},
   "outputs": [
    {
     "name": "stdout",
     "output_type": "stream",
     "text": [
      "7\n"
     ]
    }
   ],
   "source": [
    "# 2. Keyword Arguments\n",
    "print(add(b=4, a=3))\n"
   ]
  },
  {
   "cell_type": "code",
   "execution_count": 9,
   "id": "58ac8fcf-a68e-4abe-9018-6dfe241f1637",
   "metadata": {},
   "outputs": [
    {
     "name": "stdout",
     "output_type": "stream",
     "text": [
      "Hello Guest\n",
      "Hello John\n"
     ]
    }
   ],
   "source": [
    "# 3. Default Arguments\n",
    "def greet(name=\"Guest\"): # The parameter name has a default value of \"Guest, That means: if no argument is passed, the function will automatically use \"Guest\".\n",
    "    print(\"Hello\", name)\n",
    "\n",
    "greet()\n",
    "greet(\"John\") # This time, you are passing an argument: \"John\", So, the default value is ignored, and \"John\" is used instead.\n"
   ]
  },
  {
   "cell_type": "code",
   "execution_count": 11,
   "id": "e9cb8846-d221-4075-8b16-e8028fa16301",
   "metadata": {},
   "outputs": [
    {
     "name": "stdout",
     "output_type": "stream",
     "text": [
      "Positional arguments: (1, 2, 3)\n",
      "Keyword arguments: {'name': 'Alice', 'age': 25}\n"
     ]
    }
   ],
   "source": [
    "# 4. Variable-length Arguments\n",
    "def show_args(*args, **kwargs):\n",
    "    \n",
    "# *args lets you pass any number of positional arguments (like normal values).\n",
    "# **kwargs lets you pass any number of keyword arguments (name=value pairs).\n",
    "    \n",
    "    print(\"Positional arguments:\", args)\n",
    "    print(\"Keyword arguments:\", kwargs)\n",
    "\n",
    "show_args(1, 2, 3, name=\"Alice\", age=25)\n"
   ]
  },
  {
   "cell_type": "markdown",
   "id": "2e3d0eb7-27dc-43ae-a703-eeb8216f2b21",
   "metadata": {},
   "source": [
    "# 3. What are the different ways to define and call a function in Python?"
   ]
  },
  {
   "cell_type": "markdown",
   "id": "9746a7b2-d6f3-4a4d-8430-f141ec51a090",
   "metadata": {},
   "source": [
    "#### Normal Function Definition"
   ]
  },
  {
   "cell_type": "markdown",
   "id": "599b9541-3b68-4f47-bd00-bccd1ee6ced7",
   "metadata": {},
   "source": [
    "#### Definition:"
   ]
  },
  {
   "cell_type": "code",
   "execution_count": 12,
   "id": "d08c9500-5f66-415d-8483-bf9adaf5ae53",
   "metadata": {},
   "outputs": [],
   "source": [
    "def say_hello():\n",
    "    print(\"Hello\")"
   ]
  },
  {
   "cell_type": "markdown",
   "id": "e95cb1cd-263b-496c-b4e1-aa5a6fe655fd",
   "metadata": {},
   "source": [
    "#### Calling:"
   ]
  },
  {
   "cell_type": "code",
   "execution_count": 13,
   "id": "4882c9c5-eef8-4bb1-8828-a4150a3073ad",
   "metadata": {},
   "outputs": [
    {
     "name": "stdout",
     "output_type": "stream",
     "text": [
      "Hello\n"
     ]
    }
   ],
   "source": [
    "say_hello()"
   ]
  },
  {
   "cell_type": "markdown",
   "id": "5ab696dd-f385-416c-86c9-d84f95228f0e",
   "metadata": {},
   "source": [
    "### Function with Parameters"
   ]
  },
  {
   "cell_type": "markdown",
   "id": "2c06d559-be38-4393-8d89-b2200d576220",
   "metadata": {},
   "source": [
    "#### Definition:"
   ]
  },
  {
   "cell_type": "code",
   "execution_count": 16,
   "id": "e4a297d5-27b7-46ae-8bda-207beff6b0a5",
   "metadata": {},
   "outputs": [],
   "source": [
    "def greet(name):\n",
    "    return \"Hello \"+name"
   ]
  },
  {
   "cell_type": "markdown",
   "id": "08e840bf-645f-45aa-b3fb-81c2368797a2",
   "metadata": {},
   "source": [
    "#### Calling:"
   ]
  },
  {
   "cell_type": "code",
   "execution_count": 17,
   "id": "c4275b37-73c6-4924-b933-1c8607a5f525",
   "metadata": {},
   "outputs": [
    {
     "name": "stdout",
     "output_type": "stream",
     "text": [
      "Hello Vishal\n"
     ]
    }
   ],
   "source": [
    "print(greet(\"Vishal\"))"
   ]
  },
  {
   "cell_type": "markdown",
   "id": "0fc53b5a-ed0f-45d3-93fa-247dc043e31f",
   "metadata": {},
   "source": [
    "### Function with Return Value"
   ]
  },
  {
   "cell_type": "markdown",
   "id": "063241a7-5cd2-4660-abe3-3b170e4e3b76",
   "metadata": {},
   "source": [
    "#### Definition:"
   ]
  },
  {
   "cell_type": "code",
   "execution_count": 18,
   "id": "2f8bba18-a388-4c98-a7da-a0b9ae4412c3",
   "metadata": {},
   "outputs": [],
   "source": [
    "def add(a,b):\n",
    "    return a+b"
   ]
  },
  {
   "cell_type": "markdown",
   "id": "b8faf9b8-ada8-495d-9234-67b29e9c5a9d",
   "metadata": {},
   "source": [
    "#### Calling:"
   ]
  },
  {
   "cell_type": "code",
   "execution_count": 19,
   "id": "99cbb435-628f-498a-9593-00e7d7bd3a32",
   "metadata": {},
   "outputs": [
    {
     "name": "stdout",
     "output_type": "stream",
     "text": [
      "7\n"
     ]
    }
   ],
   "source": [
    "result = add(3,4)\n",
    "print(result)"
   ]
  },
  {
   "cell_type": "markdown",
   "id": "26843bd9-982d-4d88-aba1-56160c47f96a",
   "metadata": {},
   "source": [
    "### Function with Default Arguments"
   ]
  },
  {
   "cell_type": "markdown",
   "id": "b8b1b60d-bddb-4ce4-8578-7fdf2625035d",
   "metadata": {},
   "source": [
    "#### Definition:"
   ]
  },
  {
   "cell_type": "code",
   "execution_count": null,
   "id": "1e9edf34-3d74-4f23-b807-317bdd49f86e",
   "metadata": {},
   "outputs": [],
   "source": [
    "def greet(name=\"guest\"):\n",
    "    return \"Hello \"+ name"
   ]
  },
  {
   "cell_type": "markdown",
   "id": "b9c5e717-98c0-4f9e-a4d6-97129c97a600",
   "metadata": {},
   "source": [
    "#### Calling:"
   ]
  },
  {
   "cell_type": "code",
   "execution_count": 21,
   "id": "0e6c5ece-9d53-468a-ad5d-65ffb73f995f",
   "metadata": {},
   "outputs": [
    {
     "data": {
      "text/plain": [
       "'Hello Vishal'"
      ]
     },
     "execution_count": 21,
     "metadata": {},
     "output_type": "execute_result"
    }
   ],
   "source": [
    "greet()\n",
    "greet(\"Vishal\")"
   ]
  },
  {
   "cell_type": "markdown",
   "id": "e9a0b5c7-2e47-4f98-ba8e-aacf6334cdbb",
   "metadata": {},
   "source": [
    "### Function with *args (Variable Positional Arguments)"
   ]
  },
  {
   "cell_type": "markdown",
   "id": "d8d19dfd-f22d-4315-8d72-b36a2eb0dc9d",
   "metadata": {},
   "source": [
    "#### Definition:"
   ]
  },
  {
   "cell_type": "code",
   "execution_count": 38,
   "id": "7092b6e0-3cf1-4611-bb53-ac6fa26a710a",
   "metadata": {},
   "outputs": [],
   "source": [
    "def show_number(*args):\n",
    "    for num in args:\n",
    "        print(num)"
   ]
  },
  {
   "cell_type": "markdown",
   "id": "e573cfd9-2e99-4f95-b6d1-202dea25d6d7",
   "metadata": {},
   "source": [
    "#### Calling:"
   ]
  },
  {
   "cell_type": "code",
   "execution_count": 23,
   "id": "ed5a087b-8a29-4463-96e5-ccc0493dce59",
   "metadata": {},
   "outputs": [
    {
     "name": "stdout",
     "output_type": "stream",
     "text": [
      "1\n",
      "2\n",
      "3\n"
     ]
    }
   ],
   "source": [
    "show_number(1,2,3)"
   ]
  },
  {
   "cell_type": "markdown",
   "id": "64119a87-6b43-4c24-91d2-3d0df450393d",
   "metadata": {},
   "source": [
    "### Function with **kwargs (Variable Keyword Arguments)"
   ]
  },
  {
   "cell_type": "markdown",
   "id": "8685d1bd-0e0a-4013-b26b-1121e3fd42bb",
   "metadata": {},
   "source": [
    "#### Definition:"
   ]
  },
  {
   "cell_type": "code",
   "execution_count": 33,
   "id": "789a085e-7485-4f29-bcc7-431ec2b3ac4f",
   "metadata": {},
   "outputs": [],
   "source": [
    "def show_details(**kwargs):\n",
    "    for keys,values in kwargs.items():\n",
    "        print(keys,\":\",values)"
   ]
  },
  {
   "cell_type": "markdown",
   "id": "afa1e2e0-a0c2-47b9-b344-10ea4ef25a5e",
   "metadata": {},
   "source": [
    "#### Calling:"
   ]
  },
  {
   "cell_type": "code",
   "execution_count": 32,
   "id": "8a9db2ba-a1c2-413c-a72c-8bcd89a1b6ab",
   "metadata": {},
   "outputs": [
    {
     "name": "stdout",
     "output_type": "stream",
     "text": [
      "name : vishal\n",
      "age : 27\n"
     ]
    }
   ],
   "source": [
    "show_details(name=\"vishal\",age=27)"
   ]
  },
  {
   "cell_type": "markdown",
   "id": "43c0dc27-614a-4514-b963-124f597d7229",
   "metadata": {},
   "source": [
    "### Lambda Function (Anonymous Function)"
   ]
  },
  {
   "cell_type": "code",
   "execution_count": 35,
   "id": "30778909-ce23-4bac-bb02-a7e35397f235",
   "metadata": {},
   "outputs": [
    {
     "name": "stdout",
     "output_type": "stream",
     "text": [
      "7\n"
     ]
    }
   ],
   "source": [
    "add = lambda x,y:x+y\n",
    "print(add(3,4))"
   ]
  },
  {
   "cell_type": "markdown",
   "id": "2caa4e32-e160-4ada-bce0-8cdfeab08f71",
   "metadata": {},
   "source": [
    "### Recursive Function (Calls Itself)"
   ]
  },
  {
   "cell_type": "markdown",
   "id": "c3baf173-6442-46ea-add1-aedc6ef05921",
   "metadata": {},
   "source": [
    "#### Definition:"
   ]
  },
  {
   "cell_type": "code",
   "execution_count": 36,
   "id": "420dedad-f891-4070-9d78-80975189bc57",
   "metadata": {},
   "outputs": [],
   "source": [
    "def factorial(n):\n",
    "    if n==0:\n",
    "        return 1\n",
    "    else:\n",
    "        return n*factorial(n-1)\n",
    "        "
   ]
  },
  {
   "cell_type": "markdown",
   "id": "11cfc801-fba6-4d42-8c66-040a31487581",
   "metadata": {},
   "source": [
    "#### Calling:"
   ]
  },
  {
   "cell_type": "code",
   "execution_count": 40,
   "id": "e45db172-5d36-4694-8b3e-15bc7d5401a8",
   "metadata": {},
   "outputs": [
    {
     "name": "stdout",
     "output_type": "stream",
     "text": [
      "24\n"
     ]
    }
   ],
   "source": [
    "print(factorial(4))"
   ]
  },
  {
   "cell_type": "markdown",
   "id": "e9235a3e-476b-48a2-bd5f-7fcb6d90abb2",
   "metadata": {},
   "source": [
    "# 4. What is the purpose of the return statement in a Python function?"
   ]
  },
  {
   "cell_type": "markdown",
   "id": "f57a1072-d453-4db5-9acd-0035f18f03c9",
   "metadata": {},
   "source": [
    "### -> Send a value back to the place where the function was called."
   ]
  },
  {
   "cell_type": "code",
   "execution_count": 41,
   "id": "11995840-cfe7-4857-8fbb-b6676131cd42",
   "metadata": {},
   "outputs": [
    {
     "name": "stdout",
     "output_type": "stream",
     "text": [
      "8\n"
     ]
    }
   ],
   "source": [
    "def add(a, b):\n",
    "    return a + b\n",
    "\n",
    "result = add(3, 5)\n",
    "print(result) "
   ]
  },
  {
   "cell_type": "markdown",
   "id": "5ea75537-3a82-4358-ab11-077625db85c0",
   "metadata": {},
   "source": [
    "### -> End the function execution immediately."
   ]
  },
  {
   "cell_type": "code",
   "execution_count": 42,
   "id": "ef5aff98-dae6-46dc-8968-30db3a1feee6",
   "metadata": {},
   "outputs": [
    {
     "data": {
      "text/plain": [
       "'done'"
      ]
     },
     "execution_count": 42,
     "metadata": {},
     "output_type": "execute_result"
    }
   ],
   "source": [
    "# When Python hits a return, it exits the function and does not execute any code after it.\n",
    "\n",
    "def test():\n",
    "    return \"done\"\n",
    "    print(\"This will not done\")\n",
    "\n",
    "test()"
   ]
  },
  {
   "cell_type": "markdown",
   "id": "538feef6-38d6-4acb-8a65-a16d871aceae",
   "metadata": {},
   "source": [
    "### -> If no return is used, the function returns None by default."
   ]
  },
  {
   "cell_type": "code",
   "execution_count": 46,
   "id": "07319d47-1387-4804-a827-6db845f8ecc1",
   "metadata": {},
   "outputs": [
    {
     "name": "stdout",
     "output_type": "stream",
     "text": [
      "Hello\n",
      "Returned value: None\n"
     ]
    }
   ],
   "source": [
    "def say_hello():\n",
    "    print(\"Hello\")\n",
    "\n",
    "result = say_hello()\n",
    "print(\"Returned value:\", result)\n"
   ]
  },
  {
   "cell_type": "markdown",
   "id": "2c700be7-bcf5-47fb-a896-754586b17621",
   "metadata": {},
   "source": [
    "### Summary:"
   ]
  },
  {
   "cell_type": "code",
   "execution_count": null,
   "id": "412877e8-03fd-4559-9ee9-b4454eb99926",
   "metadata": {},
   "outputs": [],
   "source": [
    "'''\n",
    "return gives back a value to the caller.\n",
    "\n",
    "It stops function execution.\n",
    "\n",
    "Without it, the function returns None.\n",
    "'''"
   ]
  },
  {
   "cell_type": "markdown",
   "id": "d6e9cd29-7d30-4abe-8b1f-32878c026e3c",
   "metadata": {},
   "source": [
    "# 5. What are iterators in Python and how do they differ from iterables?"
   ]
  },
  {
   "cell_type": "markdown",
   "id": "7675e203-aeaf-4fba-b084-a7c368936f4a",
   "metadata": {},
   "source": [
    "## Iterable"
   ]
  },
  {
   "cell_type": "markdown",
   "id": "16949735-2e3a-47f5-bcc6-6b8bae3fef31",
   "metadata": {},
   "source": [
    "#### An iterable is any object you can loop over using a for loop"
   ]
  },
  {
   "cell_type": "markdown",
   "id": "c062b55b-c419-48ae-be83-b23e3f1a8a97",
   "metadata": {},
   "source": [
    "#### __Examples__: list, tuple, string, set, dictionary"
   ]
  },
  {
   "cell_type": "code",
   "execution_count": 47,
   "id": "1cb642d9-48da-4106-8ffe-d99306c5ca68",
   "metadata": {},
   "outputs": [
    {
     "name": "stdout",
     "output_type": "stream",
     "text": [
      "1\n",
      "2\n",
      "3\n"
     ]
    }
   ],
   "source": [
    "my_list = [1, 2, 3]\n",
    "for item in my_list:\n",
    "    print(item)\n"
   ]
  },
  {
   "cell_type": "markdown",
   "id": "e3505ffa-30ca-4aa5-8aca-aa2b78cd8262",
   "metadata": {},
   "source": [
    "#### These objects have a method called __iter__()"
   ]
  },
  {
   "cell_type": "markdown",
   "id": "0e879d26-a9a1-48cf-b80a-bbdabd4a3c29",
   "metadata": {},
   "source": [
    "## Iterator"
   ]
  },
  {
   "cell_type": "markdown",
   "id": "7c692058-0c97-449d-ad22-2d70f1a44fe2",
   "metadata": {},
   "source": [
    "#### An iterator is an object that keeps state and produces the next value when you call __next()__ on it"
   ]
  },
  {
   "cell_type": "markdown",
   "id": "a0f76cc0-19e4-4d0b-a3d5-356d16036e88",
   "metadata": {},
   "source": [
    "#### You can get an iterator from an iterable using the __iter()__ function."
   ]
  },
  {
   "cell_type": "code",
   "execution_count": 60,
   "id": "054d7a41-a2c7-4d04-8671-33f88d3ade98",
   "metadata": {},
   "outputs": [
    {
     "name": "stdout",
     "output_type": "stream",
     "text": [
      "1\n",
      "2\n",
      "3\n",
      "4 5 6\n"
     ]
    }
   ],
   "source": [
    "list1 = [1,2,3,4,5,6]\n",
    "it = iter(list1)\n",
    "\n",
    "print(next(it))\n",
    "print(next(it))\n",
    "print(next(it))\n",
    "\n",
    "print(next(it),next(it),next(it))\n",
    "\n"
   ]
  },
  {
   "cell_type": "markdown",
   "id": "261eda49-5c3d-467f-a3a3-8b6f43d97ac0",
   "metadata": {},
   "source": [
    "#### If you call next(it) again, it will raise:  StopIteration"
   ]
  },
  {
   "cell_type": "code",
   "execution_count": 61,
   "id": "4aa48853-a1d4-4c44-94e4-f52fa50ac3e4",
   "metadata": {},
   "outputs": [
    {
     "name": "stdout",
     "output_type": "stream",
     "text": [
      "h\n",
      "i\n"
     ]
    }
   ],
   "source": [
    "my_str = \"hi\"\n",
    "it = iter(my_str)  # Convert iterable to iterator\n",
    "\n",
    "print(next(it))  \n",
    "print(next(it))  \n"
   ]
  },
  {
   "cell_type": "markdown",
   "id": "429774a9-d06e-41d5-8a7c-f40da50e739c",
   "metadata": {},
   "source": [
    "# 6. Explain the concept of generators in Python and how they are defined."
   ]
  },
  {
   "cell_type": "markdown",
   "id": "519c438f-27d6-4818-aea3-f3e4da508c4c",
   "metadata": {},
   "source": [
    "### A generator is a special type of function that returns an iterator, but instead of using return, it uses the yield keyword to produce values one at a time."
   ]
  },
  {
   "cell_type": "markdown",
   "id": "6ae5b69e-6e2e-43da-81a9-b6a17745687b",
   "metadata": {},
   "source": [
    "### Example"
   ]
  },
  {
   "cell_type": "code",
   "execution_count": 71,
   "id": "de3856a3-28de-48a6-aa24-9edadb01b71a",
   "metadata": {},
   "outputs": [
    {
     "name": "stdout",
     "output_type": "stream",
     "text": [
      "1 2 3\n"
     ]
    }
   ],
   "source": [
    "def counting(n):\n",
    "    count = 1\n",
    "    while count <= n:\n",
    "        yield count\n",
    "        count +=1\n",
    "\n",
    "counter = counting(4)\n",
    "\n",
    "print(next(counter),next(counter),next(counter))"
   ]
  },
  {
   "cell_type": "markdown",
   "id": "64e6765d-042b-4755-b053-6c374264f149",
   "metadata": {},
   "source": [
    "### Or using a for loop:"
   ]
  },
  {
   "cell_type": "code",
   "execution_count": 74,
   "id": "95b8470b-54be-4135-af19-755eb3a5aedf",
   "metadata": {},
   "outputs": [
    {
     "name": "stdout",
     "output_type": "stream",
     "text": [
      "1 2 3 "
     ]
    }
   ],
   "source": [
    "for num in counting(3):\n",
    "    print(num,end=\" \")\n"
   ]
  },
  {
   "cell_type": "markdown",
   "id": "92d29b60-c3e6-4f57-8cbb-45b859f612a0",
   "metadata": {},
   "source": [
    "### -> How Generators Work"
   ]
  },
  {
   "cell_type": "markdown",
   "id": "1b06e311-bb0b-4c27-a629-78c4d5f1c145",
   "metadata": {},
   "source": [
    "#### When you call the generator function, it doesn't run the code."
   ]
  },
  {
   "cell_type": "markdown",
   "id": "ca681d9e-a4aa-41e8-90b3-fc667b875743",
   "metadata": {},
   "source": [
    "#### It returns a generator object."
   ]
  },
  {
   "cell_type": "markdown",
   "id": "1a03d19d-5e0a-4fb7-9ef0-bb6ab20daef8",
   "metadata": {},
   "source": [
    "#### Each call to next() runs the code up to the next yield."
   ]
  },
  {
   "cell_type": "markdown",
   "id": "a89b9822-cbec-4509-9294-7f5d827247de",
   "metadata": {},
   "source": [
    "### -> Why Use Generators?"
   ]
  },
  {
   "cell_type": "markdown",
   "id": "041176db-8d6c-4b89-b976-83fb4a2bb216",
   "metadata": {},
   "source": [
    "#### Memory efficient: They don’t store all values in memory."
   ]
  },
  {
   "cell_type": "markdown",
   "id": "636c43a7-08ad-402a-84bd-293f42e2314b",
   "metadata": {},
   "source": [
    "#### Useful for large data: You can generate data on-the-fly."
   ]
  },
  {
   "cell_type": "markdown",
   "id": "16b1d000-ddca-4c66-b747-dfb6b7a06db3",
   "metadata": {},
   "source": [
    "#### Lazy evaluation: Values are produced only when needed."
   ]
  },
  {
   "cell_type": "markdown",
   "id": "0dc0515a-4faf-490f-8a89-d15b221b2655",
   "metadata": {},
   "source": [
    "### Summary"
   ]
  },
  {
   "cell_type": "code",
   "execution_count": null,
   "id": "d2ee95eb-39c9-4498-81bc-5c9b2c8c4bbb",
   "metadata": {},
   "outputs": [],
   "source": [
    "'''\n",
    "Use yield to create a generator.\n",
    "\n",
    "Generators return an iterator.\n",
    "\n",
    "More memory efficient than lists.\n",
    "\n",
    "Ideal for large data or streams.\n",
    "'''"
   ]
  },
  {
   "cell_type": "markdown",
   "id": "65cf7177-f6cf-4ef3-9cf8-1bc29fbc03af",
   "metadata": {},
   "source": [
    "# 7. What are the advantages of using generators over regular functions?"
   ]
  },
  {
   "cell_type": "markdown",
   "id": "26d17dce-2f1b-41ec-b2ae-b85c85e430ae",
   "metadata": {},
   "source": [
    "### -> Memory Efficient"
   ]
  },
  {
   "cell_type": "code",
   "execution_count": null,
   "id": "04f7f859-2352-44a6-9dc8-140eb080c907",
   "metadata": {},
   "outputs": [],
   "source": [
    "'''\n",
    "-- Regular functions often return entire lists (all values at once), which can take up a lot of memory.\n",
    "\n",
    "-- Generators yield one value at a time, so they don't store the full result in memory.\n",
    "'''"
   ]
  },
  {
   "cell_type": "code",
   "execution_count": 78,
   "id": "b671c36d-8282-4a71-a0b2-1c3ecde2fc78",
   "metadata": {},
   "outputs": [],
   "source": [
    "\n",
    "def get_numbers():\n",
    "    return [i for i in range(100)]  # Regular function (stores all values)\n",
    "\n",
    "\n",
    "def get_numbers_gen():\n",
    "    for i in range(100):\n",
    "        yield i     # Generator (yields one value at a time)\n"
   ]
  },
  {
   "cell_type": "markdown",
   "id": "0d136c57-f7d2-4b0a-8031-88d8a2723fdb",
   "metadata": {},
   "source": [
    "### -> Faster Startup Time"
   ]
  },
  {
   "cell_type": "markdown",
   "id": "fd3a2102-f775-47df-83a8-96fd5ecd4bf9",
   "metadata": {},
   "source": [
    "#### Since generators don’t compute all values up front, they start faster."
   ]
  },
  {
   "cell_type": "markdown",
   "id": "7058a5cf-3f3f-4081-80b0-087c586d5fbf",
   "metadata": {},
   "source": [
    "### -> Lazy Evaluation"
   ]
  },
  {
   "cell_type": "markdown",
   "id": "c7e0bcdf-ebf8-47a3-b348-a9ac3d1902fc",
   "metadata": {},
   "source": [
    "#### Generators compute values only when needed."
   ]
  },
  {
   "cell_type": "markdown",
   "id": "0d936d2e-c263-4f07-9bc9-957a605996a1",
   "metadata": {},
   "source": [
    "#### This is perfect for looping through large datasets, files, or streams."
   ]
  },
  {
   "cell_type": "markdown",
   "id": "afa2397f-65d5-43f1-b4c8-2e2f2ecc4290",
   "metadata": {},
   "source": [
    "### -> Infinite Sequences"
   ]
  },
  {
   "cell_type": "markdown",
   "id": "3af2e3d7-e33f-4bb3-be5b-b3a569395722",
   "metadata": {},
   "source": [
    "#### Generators can represent sequences that are too large to store, even infinite."
   ]
  },
  {
   "cell_type": "code",
   "execution_count": 79,
   "id": "eb6cc9b6-96b7-4458-b721-f954d10e53f8",
   "metadata": {},
   "outputs": [],
   "source": [
    "def infinite_counter():\n",
    "    count = 1\n",
    "    while True:\n",
    "        yield count\n",
    "        count += 1"
   ]
  },
  {
   "cell_type": "markdown",
   "id": "b483961b-5def-474c-b493-7cf14666dda9",
   "metadata": {},
   "source": [
    "### -> Clean and Simple Code"
   ]
  },
  {
   "cell_type": "markdown",
   "id": "ca8d7f79-2094-4c62-b3a9-2e790fbd302f",
   "metadata": {},
   "source": [
    "#### Generators make code simpler when you want to loop and return values one-by-one."
   ]
  },
  {
   "cell_type": "markdown",
   "id": "6a94a3eb-8b02-4ce6-bcc6-5e791d31998e",
   "metadata": {},
   "source": [
    "### Summary Table"
   ]
  },
  {
   "cell_type": "code",
   "execution_count": null,
   "id": "47c70428-a71a-437c-a996-6b32f2210d96",
   "metadata": {},
   "outputs": [],
   "source": [
    "'''\n",
    "Feature                                \tRegular Function\t                     Generator Function\n",
    "Returns\t                                All values at once\t                     One value at a time (yield)\n",
    "Memory usage                        \tHigh (stores all data)\t                 Low (no storage)\n",
    "Suitable for\t                        Small/medium data                   \t Large or infinite data\n",
    "Performance (initial)\t                May be slower                        \t Fast startup\n",
    "'''"
   ]
  },
  {
   "cell_type": "markdown",
   "id": "53707377-cfa3-4b49-ab20-cbf88e4a8118",
   "metadata": {},
   "source": [
    "# 8. What is a lambda function in Python and when is it typically used?"
   ]
  },
  {
   "cell_type": "markdown",
   "id": "4e29b0eb-d645-40c0-86e1-b48d301e7b1d",
   "metadata": {},
   "source": [
    "### A lambda function in Python is a small, anonymous (unnamed) function defined using the lambda keyword instead of def."
   ]
  },
  {
   "cell_type": "markdown",
   "id": "35858d91-3cee-4abd-94cd-6ef63dc38a58",
   "metadata": {},
   "source": [
    "### Syntax of Lambda Function:"
   ]
  },
  {
   "cell_type": "code",
   "execution_count": 81,
   "id": "703dd9bb-2036-42b3-9e9e-9fe757c7f586",
   "metadata": {},
   "outputs": [
    {
     "data": {
      "text/plain": [
       "<function __main__.<lambda>(arguments)>"
      ]
     },
     "execution_count": 81,
     "metadata": {},
     "output_type": "execute_result"
    }
   ],
   "source": [
    "lambda arguments: expression"
   ]
  },
  {
   "cell_type": "markdown",
   "id": "87406582-df49-429b-956a-ec2ec0f99b21",
   "metadata": {},
   "source": [
    "###  Example:"
   ]
  },
  {
   "cell_type": "code",
   "execution_count": 82,
   "id": "a11fd360-5cca-4cea-b347-75be2dee38d1",
   "metadata": {},
   "outputs": [
    {
     "name": "stdout",
     "output_type": "stream",
     "text": [
      "5\n"
     ]
    }
   ],
   "source": [
    "add = lambda x,y : x+y\n",
    "\n",
    "print(add(2,3))"
   ]
  },
  {
   "cell_type": "markdown",
   "id": "b499a328-884c-483e-b542-b74832ec09e2",
   "metadata": {},
   "source": [
    "### This is the same as:"
   ]
  },
  {
   "cell_type": "code",
   "execution_count": 83,
   "id": "4442de60-5617-4341-b8e2-32dbd5351373",
   "metadata": {},
   "outputs": [
    {
     "data": {
      "text/plain": [
       "5"
      ]
     },
     "execution_count": 83,
     "metadata": {},
     "output_type": "execute_result"
    }
   ],
   "source": [
    "def add(x, y):\n",
    "    return x + y\n",
    "add(2,3)"
   ]
  },
  {
   "cell_type": "markdown",
   "id": "5be3f23e-fe83-483e-82e3-74e013d7e9df",
   "metadata": {},
   "source": [
    "### When is a Lambda Function Typically Used?"
   ]
  },
  {
   "cell_type": "markdown",
   "id": "cd7621af-dc8d-4f60-a767-5a4805f2614e",
   "metadata": {},
   "source": [
    "#### Lambda functions are used when you need a short, simple function for a short time — especially when passing functions as arguments."
   ]
  },
  {
   "cell_type": "markdown",
   "id": "eda53e2a-1a9c-4558-862c-cf0c943f08d8",
   "metadata": {},
   "source": [
    "### -> Common Use Cases:"
   ]
  },
  {
   "cell_type": "markdown",
   "id": "c39625f3-ed0c-4447-9fa6-28effc840e46",
   "metadata": {},
   "source": [
    "#### -- Used with map()"
   ]
  },
  {
   "cell_type": "code",
   "execution_count": 90,
   "id": "44aea8ee-3ff5-419f-a7f3-9061368fdf0f",
   "metadata": {},
   "outputs": [
    {
     "name": "stdout",
     "output_type": "stream",
     "text": [
      "[2, 4, 6]\n"
     ]
    }
   ],
   "source": [
    "nums = [1,2,3]\n",
    "square = list(map(lambda x:x*2,nums))\n",
    "print(square)"
   ]
  },
  {
   "cell_type": "markdown",
   "id": "6112596d-9f33-48b4-ac52-a1096bdb5117",
   "metadata": {},
   "source": [
    "### Used with filter()"
   ]
  },
  {
   "cell_type": "code",
   "execution_count": 92,
   "id": "b14d13b0-942e-433e-84d6-14d6b59b662d",
   "metadata": {},
   "outputs": [
    {
     "name": "stdout",
     "output_type": "stream",
     "text": [
      "[2, 4, 6]\n"
     ]
    }
   ],
   "source": [
    "nums = [1,2,3,4,5,6]\n",
    "even = list(filter(lambda x:x%2==0,nums))\n",
    "\n",
    "print(even)"
   ]
  },
  {
   "cell_type": "markdown",
   "id": "6715596b-2aef-482e-9bcd-000e1d4329b5",
   "metadata": {},
   "source": [
    "### Used with sorted() and key"
   ]
  },
  {
   "cell_type": "code",
   "execution_count": 96,
   "id": "6ad0cd6f-5c4b-4d5c-9968-b055dd95dcd5",
   "metadata": {},
   "outputs": [
    {
     "name": "stdout",
     "output_type": "stream",
     "text": [
      "[(1, 'a'), (2, 'b'), (3, 'c')]\n"
     ]
    }
   ],
   "source": [
    "data = [(1,\"a\"),(3,\"c\"),(2,\"b\")]\n",
    "sorted_data = list(sorted(data, key = lambda x:x[1]))\n",
    "print(sorted_data)"
   ]
  },
  {
   "cell_type": "markdown",
   "id": "09e90511-070d-4808-837a-7682480f17c3",
   "metadata": {},
   "source": [
    "# 9. Explain the purpose and usage of the map() function in Python."
   ]
  },
  {
   "cell_type": "markdown",
   "id": "83aac867-ceec-4ed2-9d15-6aecce40d6c5",
   "metadata": {},
   "source": [
    "### The map() function is used to apply a function to every item in an iterable (like a list, tuple, etc.) and return a new map object (which is an iterator)."
   ]
  },
  {
   "cell_type": "markdown",
   "id": "27c2bbad-5316-4b7b-a27c-6bed9aad3a9e",
   "metadata": {},
   "source": [
    "#### Syntax:"
   ]
  },
  {
   "cell_type": "markdown",
   "id": "b55bc29b-1c43-472e-a16c-819af3414691",
   "metadata": {},
   "source": [
    "##### map(function, iterable)"
   ]
  },
  {
   "cell_type": "code",
   "execution_count": null,
   "id": "25dc4522-913e-443e-a10e-f6a96ea46965",
   "metadata": {},
   "outputs": [],
   "source": [
    "'''\n",
    "function: A function to apply to each item.\n",
    "\n",
    "iterable: A sequence (like list, tuple, etc.)\n",
    "'''"
   ]
  },
  {
   "cell_type": "markdown",
   "id": "3c56c26e-859a-41ce-820b-199d430c6eee",
   "metadata": {},
   "source": [
    "### Example 1: Using map() with a regular function"
   ]
  },
  {
   "cell_type": "code",
   "execution_count": 107,
   "id": "6fae5406-cf7d-4125-8645-d549aefe5272",
   "metadata": {},
   "outputs": [
    {
     "name": "stdout",
     "output_type": "stream",
     "text": [
      "[1, 4, 9, 16]\n"
     ]
    }
   ],
   "source": [
    "def square(x):\n",
    "    return x*x\n",
    "\n",
    "numbers = [1,2,3,4]\n",
    "result = list(map(square,numbers))\n",
    "\n",
    "print(result)"
   ]
  },
  {
   "cell_type": "markdown",
   "id": "b0870578-f64b-49ca-94f7-d36b9ed5ea2b",
   "metadata": {},
   "source": [
    "### Example 2: Using map() with lambda"
   ]
  },
  {
   "cell_type": "code",
   "execution_count": 104,
   "id": "2378a520-e1d2-4fa2-86b0-603de6b05da2",
   "metadata": {},
   "outputs": [
    {
     "name": "stdout",
     "output_type": "stream",
     "text": [
      "[2, 4, 6, 8, 10]\n"
     ]
    }
   ],
   "source": [
    "numbers = [1,2,3,4,5]\n",
    "square = list(map(lambda x:x*2,numbers))\n",
    "\n",
    "print(square)"
   ]
  },
  {
   "cell_type": "markdown",
   "id": "773a2057-26ce-4d99-bd0c-96389c22bed0",
   "metadata": {},
   "source": [
    "### Example 3: With multiple iterables"
   ]
  },
  {
   "cell_type": "code",
   "execution_count": 109,
   "id": "82f0cb68-ed25-49fc-8f07-2beee0772ed1",
   "metadata": {},
   "outputs": [
    {
     "name": "stdout",
     "output_type": "stream",
     "text": [
      "[5, 7, 9]\n"
     ]
    }
   ],
   "source": [
    "a = [1,2,3]\n",
    "b = [4,5,6]\n",
    "\n",
    "result = list(map(lambda x,y:x+y,a,b))\n",
    "print(result)"
   ]
  },
  {
   "cell_type": "markdown",
   "id": "99e2f3e7-fcf2-4025-bf7f-6476667093f5",
   "metadata": {},
   "source": [
    "### Key Points"
   ]
  },
  {
   "cell_type": "code",
   "execution_count": null,
   "id": "5c4a8756-1317-4b73-92ea-0255c31b41be",
   "metadata": {},
   "outputs": [],
   "source": [
    "'''\n",
    "map() is useful for transforming each item in a list without a loop.\n",
    "\n",
    "You must convert it to a list or tuple to see the result.\n",
    "\n",
    "It's memory efficient because it returns a lazy iterator.\n",
    "''"
   ]
  },
  {
   "cell_type": "markdown",
   "id": "6fd9b3e5-4734-4343-91d0-2e0dec5c1d5f",
   "metadata": {},
   "source": [
    "# 10. What is the difference between map(), reduce(), and filter() functions in Python?"
   ]
  },
  {
   "cell_type": "markdown",
   "id": "70a79d1b-3b3a-4b43-94e3-bb8d1525fbfe",
   "metadata": {},
   "source": [
    "### map() Function"
   ]
  },
  {
   "cell_type": "code",
   "execution_count": null,
   "id": "83c6132c-b3d7-4384-8b17-cfd601251d4c",
   "metadata": {},
   "outputs": [],
   "source": [
    "'''\n",
    "Purpose:\n",
    "\n",
    "The map() function applies a given function to each item in an iterable (like a list or tuple), and returns a map object (an iterator) with the results.\n",
    "'''"
   ]
  },
  {
   "cell_type": "markdown",
   "id": "eb6f6ef3-a5f9-4dfb-8cfb-857bf01d1311",
   "metadata": {},
   "source": [
    "### reduce() Function (from functools module)"
   ]
  },
  {
   "cell_type": "code",
   "execution_count": null,
   "id": "aa0edd9b-1a2f-4275-9f5e-a37ccc33412c",
   "metadata": {},
   "outputs": [],
   "source": [
    "'''\n",
    "Purpose:\n",
    "\n",
    "The reduce() function reduces a sequence of elements to a single accumulated result by applying a binary \n",
    "function (a function that takes two arguments) cumulatively.\n",
    "'''"
   ]
  },
  {
   "cell_type": "markdown",
   "id": "6dddd4b1-1d8f-4702-94d4-919cd666fe14",
   "metadata": {},
   "source": [
    "### Syntax:"
   ]
  },
  {
   "cell_type": "code",
   "execution_count": null,
   "id": "5bb77dee-1ccb-474f-816c-f7a4e40ae82b",
   "metadata": {},
   "outputs": [],
   "source": [
    "from functools import reduce\n",
    "reduce(function, iterable)"
   ]
  },
  {
   "cell_type": "code",
   "execution_count": null,
   "id": "b256f96c-d75d-404d-b81d-bb315e66f596",
   "metadata": {},
   "outputs": [],
   "source": [
    "'''\n",
    "function: A binary function that takes two arguments.\n",
    "\n",
    "iterable: Iterable whose elements will be reduced.\n",
    "'''"
   ]
  },
  {
   "cell_type": "markdown",
   "id": "630530b0-b654-4fb8-9cc0-ed28dc6a0c76",
   "metadata": {},
   "source": [
    "### Example:"
   ]
  },
  {
   "cell_type": "code",
   "execution_count": 111,
   "id": "2a070ef1-fc48-4909-86a1-fdabeaf68164",
   "metadata": {},
   "outputs": [
    {
     "name": "stdout",
     "output_type": "stream",
     "text": [
      "24\n"
     ]
    }
   ],
   "source": [
    "from functools import reduce\n",
    "\n",
    "numbers = [1, 2, 3, 4]\n",
    "result = reduce(lambda x, y: x * y, numbers)\n",
    "print(result)  \n"
   ]
  },
  {
   "cell_type": "markdown",
   "id": "b1e94dc5-56d6-47ee-a7a1-4cd0c3c5af33",
   "metadata": {},
   "source": [
    "### filter() Function"
   ]
  },
  {
   "cell_type": "code",
   "execution_count": null,
   "id": "c123d30b-3467-40a2-83d2-f5dbd9a9ac45",
   "metadata": {},
   "outputs": [],
   "source": [
    "'''\n",
    "Purpose:\n",
    "\n",
    "The filter() function filters out elements from an iterable by applying a function that returns either True or False (a boolean value).\n",
    "It returns a new iterable containing only the elements for which the function returned True.\n",
    "'''"
   ]
  },
  {
   "cell_type": "markdown",
   "id": "490ed9be-5e3b-453e-9220-4427b746cc42",
   "metadata": {},
   "source": [
    "### Syntax:"
   ]
  },
  {
   "cell_type": "code",
   "execution_count": null,
   "id": "d0f09eb7-b447-47e5-9b3c-d2db0a80046e",
   "metadata": {},
   "outputs": [],
   "source": [
    "filter(function, iterable)"
   ]
  },
  {
   "cell_type": "code",
   "execution_count": null,
   "id": "e7422628-2899-4950-b7a7-fbc9882cab51",
   "metadata": {},
   "outputs": [],
   "source": [
    "'''\n",
    "function: Function that tests each element, returning True or False.\n",
    "\n",
    "iterable: Iterable whose elements are tested.\n",
    "'''"
   ]
  },
  {
   "cell_type": "markdown",
   "id": "1acc7f84-14f2-4816-87d1-93c9440d2a5d",
   "metadata": {},
   "source": [
    "### Example:"
   ]
  },
  {
   "cell_type": "code",
   "execution_count": 112,
   "id": "418d1541-c4b4-412d-a4c4-185475022bea",
   "metadata": {},
   "outputs": [
    {
     "name": "stdout",
     "output_type": "stream",
     "text": [
      "[2, 4, 6]\n"
     ]
    }
   ],
   "source": [
    "numbers = [1, 2, 3, 4, 5, 6]\n",
    "even_numbers = filter(lambda x: x % 2 == 0, numbers)\n",
    "print(list(even_numbers)) "
   ]
  },
  {
   "cell_type": "markdown",
   "id": "9b654ff1-460c-451d-9ad7-104416310a15",
   "metadata": {},
   "source": [
    "### When to Use:"
   ]
  },
  {
   "cell_type": "code",
   "execution_count": 113,
   "id": "cd0844e1-0447-4bbf-a30c-f50cf6572149",
   "metadata": {},
   "outputs": [],
   "source": [
    "# When you want to filter out elements based on some condition (e.g., getting even numbers from a list)."
   ]
  },
  {
   "cell_type": "markdown",
   "id": "b246d296-87f4-4258-a509-81de44c3df8f",
   "metadata": {},
   "source": [
    "### Comparison Table"
   ]
  },
  {
   "cell_type": "code",
   "execution_count": null,
   "id": "d1430079-94ac-4335-b985-14cf9e1507f3",
   "metadata": {},
   "outputs": [],
   "source": [
    "'''\n",
    "Function\t   Purpose\t                                                    Return Type\t                  Example Use Case\n",
    "map()\t       Apply a function to each item in an iterable.\t            Iterator (map object)\t      Transforming values (e.g., squaring numbers)\n",
    "reduce()\t   Reduce a sequence to a single value by applying a function.\tSingle result\t              Combining values (e.g., sum, product)\n",
    "filter()\t   Filter elements in an iterable based on a condition.\t        Iterator (filtered elements)  Filtering based on condition (e.g., even numbers)\n",
    "'''"
   ]
  },
  {
   "cell_type": "markdown",
   "id": "1f493e35-5a2b-4e45-9cc9-3b7e9e83c7b8",
   "metadata": {},
   "source": [
    "### Example of All Three:"
   ]
  },
  {
   "cell_type": "code",
   "execution_count": 114,
   "id": "514b1353-8c04-46c0-8030-fd63660de394",
   "metadata": {},
   "outputs": [
    {
     "name": "stdout",
     "output_type": "stream",
     "text": [
      "[1, 4, 9, 16, 25, 36]\n",
      "[2, 4, 6]\n",
      "21\n"
     ]
    }
   ],
   "source": [
    "from functools import reduce\n",
    "\n",
    "numbers = [1, 2, 3, 4, 5, 6]\n",
    "\n",
    "squared = map(lambda x: x * x, numbers)\n",
    "\n",
    "even = filter(lambda x: x % 2 == 0, numbers)\n",
    "\n",
    "sum_of_numbers = reduce(lambda x, y: x + y, numbers)\n",
    "\n",
    "print(list(squared))        \n",
    "print(list(even))           \n",
    "print(sum_of_numbers)       \n"
   ]
  },
  {
   "cell_type": "markdown",
   "id": "e5e7081a-ce28-46bd-a3b7-b5a2616bea43",
   "metadata": {},
   "source": [
    "# 11. Using pen & Paper write the internal mechanism for sum operation using  reduce function on this given list:[47,11,42,13];"
   ]
  },
  {
   "cell_type": "markdown",
   "id": "92b4c9cf-d3d1-4721-8d94-77b2affdee9b",
   "metadata": {},
   "source": [
    "### We'll use the reduce() function with a lambda function to sum the numbers:"
   ]
  },
  {
   "cell_type": "code",
   "execution_count": 1,
   "id": "3147f10f-b971-4528-8d6a-9a1c91052635",
   "metadata": {},
   "outputs": [
    {
     "name": "stdout",
     "output_type": "stream",
     "text": [
      "113\n"
     ]
    }
   ],
   "source": [
    "from functools import reduce\n",
    "\n",
    "numbers = [47, 11, 42, 13]\n",
    "result = reduce(lambda x, y: x + y, numbers)\n",
    "print(result)\n"
   ]
  },
  {
   "cell_type": "markdown",
   "id": "8cc29b9e-fae3-4c25-b9b2-b1308eb54235",
   "metadata": {},
   "source": [
    "### Step-by-Step Breakdown:"
   ]
  },
  {
   "cell_type": "markdown",
   "id": "9e15e964-49d5-4159-bbff-4f7eb2c909de",
   "metadata": {},
   "source": [
    "#### The reduce() function works by reducing the list into a single value (the sum in this case) by applying the binary function (lambda) cumulatively to the elements."
   ]
  },
  {
   "cell_type": "markdown",
   "id": "431fb722-2b60-44f0-9216-d24a29f3af4d",
   "metadata": {},
   "source": [
    "### Initial List: [47, 11, 42, 13]"
   ]
  },
  {
   "cell_type": "code",
   "execution_count": null,
   "id": "3c495784-2b68-40e6-b797-916f5ba5621d",
   "metadata": {},
   "outputs": [],
   "source": [
    "\n",
    "'''\n",
    "1. First Step (Pairing the first two elements):\n",
    "The first two elements of the list are 47 and 11.\n",
    "\n",
    "The lambda function is applied: lambda 47, 11: 47 + 11\n",
    "\n",
    "Result: 47 + 11 = 58\n",
    "'''"
   ]
  },
  {
   "cell_type": "markdown",
   "id": "67b78230-7f4c-4f3d-83eb-9ba2d10632b6",
   "metadata": {},
   "source": [
    "### Now, the new list becomes: [58, 42, 13]"
   ]
  },
  {
   "cell_type": "code",
   "execution_count": null,
   "id": "29fba2c7-80da-4738-87b5-0d3887401c96",
   "metadata": {},
   "outputs": [],
   "source": [
    "'''\n",
    "2. Second Step (Using the result of the first step):\n",
    "The next pair of elements are the result from the first step (58) and the next element 42.\n",
    "\n",
    "Apply the lambda function: lambda 58, 42: 58 + 42\n",
    "\n",
    "Result: 58 + 42 = 100\n",
    "'''"
   ]
  },
  {
   "cell_type": "markdown",
   "id": "de7f5b73-3473-4a67-a868-94c79ed81925",
   "metadata": {},
   "source": [
    "### Now, the new list becomes: [100, 13]"
   ]
  },
  {
   "cell_type": "code",
   "execution_count": null,
   "id": "4bb3206f-f849-4d1f-b3e5-83429dcd4f99",
   "metadata": {},
   "outputs": [],
   "source": [
    "'''\n",
    "3. Third Step (Using the result from the second step):\n",
    "The next pair of elements are 100 (from the second step) and 13.\n",
    "\n",
    "Apply the lambda function: lambda 100, 13: 100 + 13\n",
    "\n",
    "Result: 100 + 13 = 113\n",
    "'''"
   ]
  },
  {
   "cell_type": "markdown",
   "id": "58258860-88d5-4346-ae00-1bf2f88d3db9",
   "metadata": {},
   "source": [
    "#### Now, there is only one element left: 113"
   ]
  },
  {
   "cell_type": "markdown",
   "id": "cc96aefa-2558-49d2-bc0a-d3bfc8b0dacb",
   "metadata": {},
   "source": [
    "### Final Result:"
   ]
  },
  {
   "cell_type": "markdown",
   "id": "5a823067-31ad-4689-bcf8-7bb1aa250658",
   "metadata": {},
   "source": [
    "#### The reduce() function finishes after all the elements have been combined, and the final result is 113."
   ]
  },
  {
   "cell_type": "markdown",
   "id": "a66d4a8e-49e4-475b-9ab9-5ea5784f9e09",
   "metadata": {},
   "source": [
    "### Summary:"
   ]
  },
  {
   "cell_type": "code",
   "execution_count": null,
   "id": "7651254c-6624-4e2b-9686-bbd5ec739d7d",
   "metadata": {},
   "outputs": [],
   "source": [
    "'''\n",
    "Initial List: [47, 11, 42, 13]\n",
    "\n",
    "First Pair: 47 + 11 = 58\n",
    "\n",
    "Second Pair: 58 + 42 = 100\n",
    "\n",
    "Third Pair: 100 + 13 = 113\n",
    "\n",
    "Final Result: 113\n",
    "\n",
    "This is how reduce() works under the hood when performing a sum operation.\n",
    "'''"
   ]
  },
  {
   "cell_type": "markdown",
   "id": "367892ca-1d65-4f6d-9844-6e61b08deb09",
   "metadata": {},
   "source": [
    "## Practical Questions:"
   ]
  },
  {
   "cell_type": "markdown",
   "id": "452a634a-cdb3-4a53-be71-a7b406b4d276",
   "metadata": {},
   "source": [
    "# 1. Write a Python function that takes a list of numbers as input and returns the sum of all even numbers in the list."
   ]
  },
  {
   "cell_type": "code",
   "execution_count": 2,
   "id": "f9c89084-57eb-47ba-9e20-0e64c7b2e37c",
   "metadata": {},
   "outputs": [
    {
     "name": "stdin",
     "output_type": "stream",
     "text": [
      "Enter number with seprated comma:  1,2,3,4,5,6\n"
     ]
    },
    {
     "name": "stdout",
     "output_type": "stream",
     "text": [
      "12\n"
     ]
    }
   ],
   "source": [
    "def even_num_sum(x):\n",
    "    even_num=0\n",
    "    for i in x:\n",
    "        if i%2==0:\n",
    "            even_num += i\n",
    "    return even_num\n",
    "\n",
    "input1 = input(\"Enter number with seprated comma: \")\n",
    "\n",
    "split1 = [int(i)for i in input1.split(\",\")]\n",
    "\n",
    "result = even_num_sum(split1)\n",
    "\n",
    "print(result)"
   ]
  },
  {
   "cell_type": "markdown",
   "id": "14264e7c-6a08-4735-a219-4f657cfc002e",
   "metadata": {},
   "source": [
    "# 2.Create a Python function that accepts a string and return the reverse of that string"
   ]
  },
  {
   "cell_type": "code",
   "execution_count": 4,
   "id": "7ccb16a8-fdbb-4c8b-9f9a-9c876daa3115",
   "metadata": {},
   "outputs": [
    {
     "name": "stdin",
     "output_type": "stream",
     "text": [
      "Enter String:  A B C D E F G H I J K L M N O P Q R S T U V W X Y Z\n"
     ]
    },
    {
     "name": "stdout",
     "output_type": "stream",
     "text": [
      "Z Y X W V U T S R Q P O N M L K J I H G F E D C B A\n"
     ]
    }
   ],
   "source": [
    "def str1(x):\n",
    "    return x[::-1]\n",
    "\n",
    "input1 = input(\"Enter String: \")\n",
    "result = str1(input1)\n",
    "\n",
    "print(result)"
   ]
  },
  {
   "cell_type": "markdown",
   "id": "df6f37fa-ed9f-460c-bcff-eb3e39b7b215",
   "metadata": {},
   "source": [
    "# 3. Implement a Python function that takes a list of integers and returns a new list containing the squares of each number."
   ]
  },
  {
   "cell_type": "code",
   "execution_count": 5,
   "id": "b9a2af2c-7db0-4c7c-8db1-7485e795bed1",
   "metadata": {},
   "outputs": [
    {
     "name": "stdout",
     "output_type": "stream",
     "text": [
      "[1, 4, 9, 16, 25, 36, 49]\n"
     ]
    }
   ],
   "source": [
    "def sqr_num(n):\n",
    "    list1 = []\n",
    "    for i in n:\n",
    "        list1.append(i*i)\n",
    "    return list1\n",
    "\n",
    "input1 = [1,2,3,4,5,6,7]\n",
    "\n",
    "result = sqr_num(input1)\n",
    "\n",
    "print(result)"
   ]
  },
  {
   "cell_type": "markdown",
   "id": "f2de11bf-275a-4fe0-bdd9-ea44c463c7ce",
   "metadata": {},
   "source": [
    "# 4.   Write a Python function that checks if a given number is prime or not from 1 to 200."
   ]
  },
  {
   "cell_type": "code",
   "execution_count": 19,
   "id": "e379b946-1c1f-4b80-bc38-fc87d7560bb8",
   "metadata": {},
   "outputs": [
    {
     "data": {
      "text/plain": [
       "'Given number is not prime'"
      ]
     },
     "execution_count": 19,
     "metadata": {},
     "output_type": "execute_result"
    }
   ],
   "source": [
    "def number(x):\n",
    "        if x < 1 or x > 200:\n",
    "            return \"Given number is not from 1 to 200\"\n",
    "        if x == 1:\n",
    "            return \"1 number is not prime\"\n",
    "        for i in range(2,int(x**0.5)+1):\n",
    "            if x%1==0:\n",
    "                return \"Given number is not prime\"\n",
    "        return \"Given number is prime\"\n",
    "\n",
    "number(5)"
   ]
  },
  {
   "cell_type": "markdown",
   "id": "d22b1ffe-85ef-4ea0-a7e3-10002b2212f4",
   "metadata": {},
   "source": [
    "# 5. Create an iterator class in Python that generates the Fibonacci sequence up to a specified number of terms."
   ]
  },
  {
   "cell_type": "code",
   "execution_count": 9,
   "id": "4f02ff19-3c63-4fa8-be30-2a68ed262a2f",
   "metadata": {},
   "outputs": [
    {
     "name": "stdout",
     "output_type": "stream",
     "text": [
      "0\n",
      "1\n",
      "1\n",
      "2\n",
      "3\n",
      "5\n",
      "8\n",
      "13\n",
      "21\n",
      "34\n"
     ]
    }
   ],
   "source": [
    "class FibonacciIterator:\n",
    "    def __init__(self, num_terms):\n",
    "        self.num_terms = num_terms\n",
    "        self.count = 0\n",
    "        self.a = 0\n",
    "        self.b = 1\n",
    "\n",
    "    def __iter__(self):\n",
    "        return self\n",
    "\n",
    "    def __next__(self):\n",
    "        if self.count >= self.num_terms:\n",
    "            raise StopIteration\n",
    "        \n",
    "        if self.count == 0:\n",
    "            self.count += 1\n",
    "            return self.a\n",
    "        elif self.count == 1:\n",
    "            self.count += 1\n",
    "            return self.b\n",
    "        else:\n",
    "            next_term = self.a + self.b\n",
    "            self.a = self.b\n",
    "            self.b = next_term\n",
    "            self.count += 1\n",
    "            return next_term\n",
    "\n",
    "fib = FibonacciIterator(10)  \n",
    "for num in fib:\n",
    "    print(num)\n"
   ]
  },
  {
   "cell_type": "markdown",
   "id": "72d779cf-c88b-4a95-88df-7983e627e517",
   "metadata": {},
   "source": [
    "#  6. Write a generator function in Python that yields the powers of 2 up to a given exponent.\n",
    "\n"
   ]
  },
  {
   "cell_type": "code",
   "execution_count": 10,
   "id": "b2af20e7-3aec-454e-a8df-bbc0ba5234a6",
   "metadata": {},
   "outputs": [
    {
     "name": "stdout",
     "output_type": "stream",
     "text": [
      "1\n",
      "2\n",
      "4\n",
      "8\n",
      "16\n",
      "32\n",
      "64\n"
     ]
    }
   ],
   "source": [
    "def powers_of_two(max_exponent):\n",
    "    for exponent in range(max_exponent+1):\n",
    "        yield 2** exponent\n",
    "\n",
    "for value in power_of_two(6):\n",
    "    print(value)"
   ]
  },
  {
   "cell_type": "markdown",
   "id": "a17539ac-fde5-48fb-a3ce-27753d91a8af",
   "metadata": {},
   "source": [
    "# 7. Implement a generator function that reads a file line by line and yields each line as a string."
   ]
  },
  {
   "cell_type": "code",
   "execution_count": 22,
   "id": "1281839e-c76c-4038-a57d-58e178494b4c",
   "metadata": {},
   "outputs": [
    {
     "name": "stdout",
     "output_type": "stream",
     "text": [
      "Hello\n",
      "Welcome\n",
      "This is sample text\n"
     ]
    }
   ],
   "source": [
    "def read_file(file_path):\n",
    "    with open(file_path, 'r') as file:\n",
    "        for line in file:\n",
    "            yield line.strip()\n",
    "\n",
    "file_path = r'D:\\sample.txt'\n",
    "\n",
    "for line in read_file(file_path):\n",
    "    print(line)"
   ]
  },
  {
   "cell_type": "markdown",
   "id": "78020662-6f76-4687-9f4b-73cb92650d08",
   "metadata": {},
   "source": [
    "# 8. Use a lambda function in Python to sort a list of tuples based on the second element of each tuple."
   ]
  },
  {
   "cell_type": "code",
   "execution_count": 24,
   "id": "b2e3346b-ff7f-4e1a-8f02-463c54c1e8b4",
   "metadata": {},
   "outputs": [
    {
     "name": "stdout",
     "output_type": "stream",
     "text": [
      "[(5, 1), (4, 2), (3, 3), (2, 4), (1, 5)]\n"
     ]
    }
   ],
   "source": [
    "my_list = [(1,5),(2,4),(3,3),(4,2),(5,1)]\n",
    "\n",
    "sorted_list = sorted(my_list,key=lambda x:x[1])\n",
    "\n",
    "print(sorted_list)"
   ]
  },
  {
   "cell_type": "markdown",
   "id": "10874b2c-73df-4a52-b6e2-39dea1c5b40c",
   "metadata": {},
   "source": [
    "# 9. Write a Python program that uses map() to convert a list of temperatures from Celsius to Fahrenheit."
   ]
  },
  {
   "cell_type": "code",
   "execution_count": 27,
   "id": "80da58c4-04d8-46ea-b9f9-a3c96e2a07eb",
   "metadata": {},
   "outputs": [
    {
     "name": "stdout",
     "output_type": "stream",
     "text": [
      "[32.0, 68.0, 86.0, 104.0, 122.0]\n"
     ]
    }
   ],
   "source": [
    "cel_temp = [0,20,30,40,50]\n",
    "\n",
    "def c_to_f(c):\n",
    "    return c*9/5+32\n",
    "\n",
    "f_temp = list(map(c_to_f,cel_temp))\n",
    "\n",
    "print(f_temp)"
   ]
  },
  {
   "cell_type": "code",
   "execution_count": 29,
   "id": "4876e8a8-515c-42fb-bc24-aaaa8340f43f",
   "metadata": {},
   "outputs": [
    {
     "name": "stdout",
     "output_type": "stream",
     "text": [
      "[32.0, 68.0, 86.0, 104.0, 122.0]\n"
     ]
    }
   ],
   "source": [
    "# using lambda function\n",
    "\n",
    "cel_temp = [0,20,30,40,50]\n",
    "\n",
    "f_temp = list(map(lambda c:c*9/5+32,cel_temp))\n",
    "\n",
    "print(f_temp)"
   ]
  },
  {
   "cell_type": "markdown",
   "id": "3173aeab-9ec5-40cc-80a8-1fdee1d9abbc",
   "metadata": {},
   "source": [
    "# 10. Create a Python program that uses filter() to remove all the vowels from a given string."
   ]
  },
  {
   "cell_type": "code",
   "execution_count": 30,
   "id": "9765b8c9-1f61-4f8e-9122-734f6bd16da4",
   "metadata": {},
   "outputs": [
    {
     "name": "stdout",
     "output_type": "stream",
     "text": [
      "Hll Vshl, Hw r Y\n"
     ]
    }
   ],
   "source": [
    "def not_in_vovel(char):\n",
    "    vovel = \"aeiouAEIOU\"\n",
    "    return char not in vovel\n",
    "\n",
    "input_string = \"Hello Vishal, How Are You\"\n",
    "\n",
    "filtered_string = ''.join(filter(not_in_vovel,input_string))\n",
    "\n",
    "print(filtered_string)"
   ]
  },
  {
   "cell_type": "code",
   "execution_count": null,
   "id": "87fb4010-3126-4787-95d0-8a66c130e840",
   "metadata": {},
   "outputs": [],
   "source": []
  },
  {
   "cell_type": "markdown",
   "id": "631f2b91-bbb5-42ca-a219-64e0fbdd641c",
   "metadata": {},
   "source": [
    "# 11) Imagine an accounting routine used in a book shop. It works on a list with sublists, which look like this:"
   ]
  },
  {
   "cell_type": "code",
   "execution_count": null,
   "id": "361e107c-3883-47f4-8680-af8e480ec4c5",
   "metadata": {},
   "outputs": [],
   "source": [
    "'''\n",
    "\n",
    "Order Number   Book Title and Author                Quantity   Price per Item\n",
    "\n",
    "34587          Learning Python, Mark Lutz             4          40.95\n",
    "98762          Programming Python, Mark Lutz          5          56.80\n",
    "77226          Head First Python, Paul Barry          3          32.95\n",
    "88112          Einführung in Python3, Bernd Klein     3          24.99\n",
    "\n",
    "'''"
   ]
  },
  {
   "cell_type": "markdown",
   "id": "8614448e-01e2-430c-b1e4-5385f68ca2c9",
   "metadata": {},
   "source": [
    "## Write a Python program, which returns a list with 2-tuples. Each tuple consists of the order number and the product of the price per item and the quantity. The product should be increased by 10, -€ if the value of the order is smaller than 100,00 €.   \n"
   ]
  },
  {
   "cell_type": "markdown",
   "id": "a5b15968-0671-4696-8b64-14cb2ffe595a",
   "metadata": {},
   "source": [
    "## Write a Python program using lambda and map. "
   ]
  },
  {
   "cell_type": "code",
   "execution_count": 48,
   "id": "9b5bbaec-2887-4f31-8b81-c6c070ed2cd7",
   "metadata": {},
   "outputs": [
    {
     "name": "stdout",
     "output_type": "stream",
     "text": [
      "[(34587, 163.8), (98762, 284.0), (77226, 108.85000000000001), (88112, 84.97)]\n"
     ]
    }
   ],
   "source": [
    "orders = [\n",
    "    [34587,\"Learning Python, Mark Lutz\",4,40.95],\n",
    "    [98762,\"Programming Python, Mark Lutz\",5,56.80],\n",
    "    [77226,\"Head First Python, Paul Barry\",3,32.95],\n",
    "    [88112,\"Einführung in Python3, Bernd Klein\",3,24.99]\n",
    "]\n",
    "\n",
    "result = list(map(lambda order:(order[0],(order[2]*order[3]+10) if (order[2]*order[3])<100 else (order[2]*order[3])),orders))\n",
    "              \n",
    "print(result)                "
   ]
  }
 ],
 "metadata": {
  "kernelspec": {
   "display_name": "Python 3 (ipykernel)",
   "language": "python",
   "name": "python3"
  },
  "language_info": {
   "codemirror_mode": {
    "name": "ipython",
    "version": 3
   },
   "file_extension": ".py",
   "mimetype": "text/x-python",
   "name": "python",
   "nbconvert_exporter": "python",
   "pygments_lexer": "ipython3",
   "version": "3.12.7"
  }
 },
 "nbformat": 4,
 "nbformat_minor": 5
}
